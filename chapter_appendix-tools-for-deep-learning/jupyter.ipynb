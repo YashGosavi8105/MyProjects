{
  "cells": [
    {
      "cell_type": "markdown",
      "metadata": {
        "id": "view-in-github",
        "colab_type": "text"
      },
      "source": [
        "<a href=\"https://colab.research.google.com/github/YashGosavi8105/MyProjects/blob/main/chapter_appendix-tools-for-deep-learning/jupyter.ipynb\" target=\"_parent\"><img src=\"https://colab.research.google.com/assets/colab-badge.svg\" alt=\"Open In Colab\"/></a>"
      ]
    },
    {
      "cell_type": "code",
      "source": [
        "import tensorflow as tf\n",
        "model = tf.keras.models.load_model(\"updated_model.h5\")"
      ],
      "metadata": {
        "id": "KHVNhEfqEi38"
      },
      "id": "KHVNhEfqEi38",
      "execution_count": null,
      "outputs": []
    },
    {
      "cell_type": "code",
      "source": [
        "import numpy as np"
      ],
      "metadata": {
        "id": "EQRo-L5RDqmK"
      },
      "id": "EQRo-L5RDqmK",
      "execution_count": null,
      "outputs": []
    },
    {
      "cell_type": "code",
      "source": [
        "import cv2\n",
        "import time\n",
        "import numpy as np\n",
        "import tensorflow as tf\n",
        "\n",
        "face_cascade = cv2.CascadeClassifier(cv2.data.haarcascades + 'haarcascade_frontalface_default.xml')\n",
        "\n",
        "\n",
        "cap = cv2.VideoCapture(0)\n",
        "if not cap.isOpened():\n",
        "    print(\"Error: Could not open webcam.\")\n",
        "    exit()\n",
        "\n",
        "start_time = time.time()\n",
        "last_prediction_time = 0\n",
        "prediction_interval = 4\n",
        "\n",
        "while True:\n",
        "    ret, frame = cap.read()\n",
        "    if not ret:\n",
        "        print(\"Failed to capture frame. Exiting...\")\n",
        "        break\n",
        "\n",
        "    gray = cv2.cvtColor(frame, cv2.COLOR_BGR2GRAY)\n",
        "    faces = face_cascade.detectMultiScale(gray, scaleFactor=1.1, minNeighbors=5, minSize=(50, 50))\n",
        "    current_time = time.time()\n",
        "\n",
        "    for (x, y, w, h) in faces:\n",
        "        if current_time - last_prediction_time > prediction_interval:\n",
        "            face_roi = frame[y:y+h, x:x+w]\n",
        "            face_resized = cv2.resize(face_roi, (200, 200)).astype('float32') / 255.0\n",
        "            face_resized = np.expand_dims(face_resized, axis=0)\n",
        "\n",
        "            gender_pred, race_pred, age_pred = model.predict(face_resized)\n",
        "            stored_gender = \"Male\" if gender_pred[0] < 0.5 else \"Female\"\n",
        "            stored_age = f\"{age_pred[0][0]:.2f}\"\n",
        "            last_prediction_time = current_time\n",
        "\n",
        "        cv2.rectangle(frame, (x, y), (x + w, y + h), (0, 255, 0), 2)\n",
        "        cv2.putText(frame, f\"Gender: {stored_gender}, Age: {stored_age}\",\n",
        "                    (x, y - 10), cv2.FONT_HERSHEY_SIMPLEX, 0.7, (0, 255, 0), 2)\n",
        "\n",
        "    cv2.imshow('Live Video Feed', frame)\n",
        "\n",
        "    if time.time() - start_time > 10:\n",
        "        print(\"Exiting after 10 seconds...\")\n",
        "        break\n",
        "\n",
        "    if cv2.waitKey(1) & 0xFF == ord('q'):\n",
        "        print(\"Exiting manually...\")\n",
        "        break\n",
        "\n",
        "cap.release()\n",
        "cv2.destroyAllWindows()"
      ],
      "metadata": {
        "id": "fyehzOUTF5lw"
      },
      "id": "fyehzOUTF5lw",
      "execution_count": null,
      "outputs": []
    }
  ],
  "metadata": {
    "kernelspec": {
      "display_name": "Python 3",
      "name": "python3"
    },
    "language_info": {
      "name": "python"
    },
    "required_libs": [],
    "colab": {
      "provenance": [],
      "include_colab_link": true
    }
  },
  "nbformat": 4,
  "nbformat_minor": 5
}